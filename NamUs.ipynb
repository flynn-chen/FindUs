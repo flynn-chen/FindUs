{
 "cells": [
  {
   "cell_type": "markdown",
   "metadata": {},
   "source": [
    "# Extracting Data from NamUs"
   ]
  },
  {
   "cell_type": "markdown",
   "metadata": {},
   "source": [
    "NamUs (https://www.findthemissing.org/en) is the National Missing and Unidentified Persons System funded by the U.S. Department of Justice. NamUs does not provide an API, but does provide a searchable interface. \n",
    "\n",
    "In this notebook, I want to show how to retrieve and store missing persons data from NamUs using Selenium and store it as JSON. "
   ]
  },
  {
   "cell_type": "code",
   "execution_count": 1,
   "metadata": {},
   "outputs": [],
   "source": [
    "import time, re, json\n",
    "from selenium import webdriver\n",
    "from webdriver_manager.chrome import ChromeDriverManager\n",
    "from selenium.common.exceptions import NoSuchElementException\n",
    "from selenium.webdriver.common.keys import Keys\n",
    "from selenium.webdriver.support.ui import WebDriverWait\n",
    "import numpy as np\n",
    "import pandas as pd"
   ]
  },
  {
   "cell_type": "markdown",
   "metadata": {},
   "source": [
    "Try to search for all missing persons in Alabama."
   ]
  },
  {
   "cell_type": "code",
   "execution_count": 2,
   "metadata": {},
   "outputs": [
    {
     "name": "stderr",
     "output_type": "stream",
     "text": [
      "[WDM] - Current google-chrome version is 85.0.4183\n",
      "[WDM] - Get LATEST driver version for 85.0.4183\n",
      "[WDM] - Get LATEST driver version for 85.0.4183\n"
     ]
    },
    {
     "name": "stdout",
     "output_type": "stream",
     "text": [
      " \n"
     ]
    },
    {
     "name": "stderr",
     "output_type": "stream",
     "text": [
      "[WDM] - Trying to download new driver from http://chromedriver.storage.googleapis.com/85.0.4183.87/chromedriver_mac64.zip\n",
      "[WDM] - Driver has been saved in cache [/Users/flynn_chen/.wdm/drivers/chromedriver/mac64/85.0.4183.87]\n"
     ]
    },
    {
     "name": "stdout",
     "output_type": "stream",
     "text": [
      "['Alabama', 'Alaska', 'Arizona', 'Arkansas', 'California', 'Colorado', 'Connecticut', 'Delaware', 'District of Columbia', 'Florida', 'Georgia', 'Guam', 'Hawaii', 'Idaho', 'Illinois', 'Indiana', 'Iowa', 'Kansas', 'Kentucky', 'Louisiana', 'Maine', 'Maryland', 'Massachusetts', 'Michigan', 'Minnesota', 'Mississippi', 'Missouri', 'Montana', 'Nebraska', 'Nevada', 'New Hampshire', 'New Jersey', 'New Mexico', 'New York', 'North Carolina', 'North Dakota', 'Northern Mariana Islands', 'Ohio', 'Oklahoma', 'Oregon', 'Pennsylvania', 'Puerto Rico', 'Rhode Island', 'South Carolina', 'South Dakota', 'Tennessee', 'Texas', 'Utah', 'Vermont', 'Virgin Islands', 'Virginia', 'Washington', 'West Virginia', 'Wisconsin', 'Wyoming']\n"
     ]
    }
   ],
   "source": [
    "browser = webdriver.Chrome(ChromeDriverManager().install())\n",
    "#browser = webdriver.Chrome(\"/Users/flynn_chen/Desktop/Projects/findus/missingpersons/chromedriver\")\n",
    "browser.get(\"https://www.findthemissing.org/en\")\n",
    "time.sleep(5)\n",
    "\n",
    "#click away the initating window\n",
    "browser.find_elements_by_xpath('''//*[@id=\"LegacyMigrationNotification\"]/div[1]/div[2]/button''')[0].click()\n",
    "states_input = browser.find_elements_by_xpath('''//*[@id=\"visitor\"]/div[1]/section/div/div/div[2]/aside/quick-search/div/div[2]/form/fieldset/label[4]/div/ul/li/input''')[0]\n",
    "states_input.click()\n",
    "\n",
    "time.sleep(3)\n",
    "states = browser.find_elements_by_xpath('''//*[@id=\"visitor\"]/div[1]/section/div/div/div[2]/aside/quick-search/div/div[2]/form/fieldset/label[4]/div/div/ul/li''')[0]\n",
    "states = states.text.split(\"\\n\")\n",
    "print(states)\n",
    "\n",
    "states_input.send_keys(states[0] + Keys.ENTER)\n",
    "\n",
    "time.sleep(2)\n",
    "search = browser.find_elements_by_xpath('''//*[@id=\"visitor\"]/div[1]/section/div/div/div[2]/aside/quick-search/div/div[2]/form/div[2]/input[2]''')[0]\n",
    "search.submit()\n",
    "time.sleep(2)"
   ]
  },
  {
   "cell_type": "code",
   "execution_count": 3,
   "metadata": {},
   "outputs": [
    {
     "name": "stdout",
     "output_type": "stream",
     "text": [
      "235\n"
     ]
    }
   ],
   "source": [
    "total_in_state = int(browser.find_elements_by_class_name(\"case-results-heading\")[0].text.replace(\" Missing Persons Cases Found\", \"\"))\n",
    "print(total_in_state)"
   ]
  },
  {
   "cell_type": "markdown",
   "metadata": {},
   "source": [
    "Instead of searching through 15 pages of results with about 10 cases per page. It would make more sense to display 100 cases on a page."
   ]
  },
  {
   "cell_type": "code",
   "execution_count": 4,
   "metadata": {},
   "outputs": [],
   "source": [
    "expand_table = browser.find_elements_by_xpath('''//*[@id=\"visitor\"]/div[1]/div[4]/form/div[2]/section[2]/div/div/div/div/div[3]/div[3]/search-results-pager/ng-include/div/div/div/label/select''')[0]\n",
    "expand_options = expand_table.find_elements_by_tag_name(\"option\")\n",
    "expand_text = [e.text for e in expand_options]\n",
    "expand_options[expand_text.index('100')].click()\n",
    "time.sleep(2)"
   ]
  },
  {
   "cell_type": "code",
   "execution_count": 5,
   "metadata": {},
   "outputs": [
    {
     "data": {
      "text/html": [
       "<div>\n",
       "<style scoped>\n",
       "    .dataframe tbody tr th:only-of-type {\n",
       "        vertical-align: middle;\n",
       "    }\n",
       "\n",
       "    .dataframe tbody tr th {\n",
       "        vertical-align: top;\n",
       "    }\n",
       "\n",
       "    .dataframe thead th {\n",
       "        text-align: right;\n",
       "    }\n",
       "</style>\n",
       "<table border=\"1\" class=\"dataframe\">\n",
       "  <thead>\n",
       "    <tr style=\"text-align: right;\">\n",
       "      <th></th>\n",
       "      <th>Case Number</th>\n",
       "      <th>DLC</th>\n",
       "      <th>Last Name</th>\n",
       "      <th>First Name</th>\n",
       "      <th>Missing Age</th>\n",
       "      <th>City</th>\n",
       "      <th>County</th>\n",
       "      <th>State</th>\n",
       "      <th>Sex</th>\n",
       "      <th>Race / Ethnicity</th>\n",
       "      <th>Date Modified</th>\n",
       "    </tr>\n",
       "  </thead>\n",
       "  <tbody>\n",
       "    <tr>\n",
       "      <th>1</th>\n",
       "      <td>MP73132</td>\n",
       "      <td>08/23/2020</td>\n",
       "      <td>Ragland</td>\n",
       "      <td>Kristie</td>\n",
       "      <td>52 Years</td>\n",
       "      <td>Coker</td>\n",
       "      <td>Tuscaloosa</td>\n",
       "      <td>AL</td>\n",
       "      <td>Female</td>\n",
       "      <td>White / Caucasian</td>\n",
       "      <td>08/31/2020</td>\n",
       "    </tr>\n",
       "    <tr>\n",
       "      <th>2</th>\n",
       "      <td>MP67982</td>\n",
       "      <td>03/08/2020</td>\n",
       "      <td>Watson</td>\n",
       "      <td>Douglas</td>\n",
       "      <td>29 Years</td>\n",
       "      <td>West Jefferson</td>\n",
       "      <td>Jefferson</td>\n",
       "      <td>AL</td>\n",
       "      <td>Male</td>\n",
       "      <td>White / Caucasian</td>\n",
       "      <td>06/22/2020</td>\n",
       "    </tr>\n",
       "    <tr>\n",
       "      <th>3</th>\n",
       "      <td>MP64666</td>\n",
       "      <td>01/16/2020</td>\n",
       "      <td>Edwards</td>\n",
       "      <td>Katrina</td>\n",
       "      <td>16 Years</td>\n",
       "      <td>Mobile</td>\n",
       "      <td>Mobile</td>\n",
       "      <td>AL</td>\n",
       "      <td>Female</td>\n",
       "      <td>White / Caucasian</td>\n",
       "      <td>08/12/2020</td>\n",
       "    </tr>\n",
       "    <tr>\n",
       "      <th>4</th>\n",
       "      <td>MP67978</td>\n",
       "      <td>01/08/2020</td>\n",
       "      <td>Kennebrew</td>\n",
       "      <td>Judy</td>\n",
       "      <td>65 Years</td>\n",
       "      <td>Tallassee</td>\n",
       "      <td>Tallapoosa</td>\n",
       "      <td>AL</td>\n",
       "      <td>Female</td>\n",
       "      <td>Black / African American</td>\n",
       "      <td>04/08/2020</td>\n",
       "    </tr>\n",
       "    <tr>\n",
       "      <th>5</th>\n",
       "      <td>MP71439</td>\n",
       "      <td>10/21/2019</td>\n",
       "      <td>Taylor</td>\n",
       "      <td>Lonnie</td>\n",
       "      <td>78 Years</td>\n",
       "      <td>Jasper</td>\n",
       "      <td>Walker</td>\n",
       "      <td>AL</td>\n",
       "      <td>Male</td>\n",
       "      <td>White / Caucasian</td>\n",
       "      <td>08/31/2020</td>\n",
       "    </tr>\n",
       "    <tr>\n",
       "      <th>...</th>\n",
       "      <td>...</td>\n",
       "      <td>...</td>\n",
       "      <td>...</td>\n",
       "      <td>...</td>\n",
       "      <td>...</td>\n",
       "      <td>...</td>\n",
       "      <td>...</td>\n",
       "      <td>...</td>\n",
       "      <td>...</td>\n",
       "      <td>...</td>\n",
       "      <td>...</td>\n",
       "    </tr>\n",
       "    <tr>\n",
       "      <th>96</th>\n",
       "      <td>MP23660</td>\n",
       "      <td>04/25/2009</td>\n",
       "      <td>Key</td>\n",
       "      <td>Scott</td>\n",
       "      <td>45 Years</td>\n",
       "      <td>Oakman</td>\n",
       "      <td>Walker</td>\n",
       "      <td>AL</td>\n",
       "      <td>Male</td>\n",
       "      <td>White / Caucasian</td>\n",
       "      <td>05/08/2020</td>\n",
       "    </tr>\n",
       "    <tr>\n",
       "      <th>97</th>\n",
       "      <td>MP7380</td>\n",
       "      <td>04/08/2009</td>\n",
       "      <td>Rose</td>\n",
       "      <td>Warner</td>\n",
       "      <td>29 Years</td>\n",
       "      <td>Selma</td>\n",
       "      <td>Dallas</td>\n",
       "      <td>AL</td>\n",
       "      <td>Male</td>\n",
       "      <td>Black / African American</td>\n",
       "      <td>02/04/2020</td>\n",
       "    </tr>\n",
       "    <tr>\n",
       "      <th>98</th>\n",
       "      <td>MP5014</td>\n",
       "      <td>03/23/2009</td>\n",
       "      <td>Sanchez</td>\n",
       "      <td>Victor</td>\n",
       "      <td>25 Years</td>\n",
       "      <td>Abbeville</td>\n",
       "      <td>Henry</td>\n",
       "      <td>AL</td>\n",
       "      <td>Male</td>\n",
       "      <td>Hispanic / Latino</td>\n",
       "      <td>02/11/2020</td>\n",
       "    </tr>\n",
       "    <tr>\n",
       "      <th>99</th>\n",
       "      <td>MP5211</td>\n",
       "      <td>01/21/2009</td>\n",
       "      <td>Adkins</td>\n",
       "      <td>Layla</td>\n",
       "      <td>32 Years</td>\n",
       "      <td>Leeds</td>\n",
       "      <td>Shelby</td>\n",
       "      <td>AL</td>\n",
       "      <td>Female</td>\n",
       "      <td>White / Caucasian</td>\n",
       "      <td>07/20/2020</td>\n",
       "    </tr>\n",
       "    <tr>\n",
       "      <th>100</th>\n",
       "      <td>MP10499</td>\n",
       "      <td>11/03/2008</td>\n",
       "      <td>Kersh</td>\n",
       "      <td>Nadia</td>\n",
       "      <td>23 Years</td>\n",
       "      <td>Homewood</td>\n",
       "      <td>Jefferson</td>\n",
       "      <td>AL</td>\n",
       "      <td>Female</td>\n",
       "      <td>White / Caucasian</td>\n",
       "      <td>02/04/2020</td>\n",
       "    </tr>\n",
       "  </tbody>\n",
       "</table>\n",
       "<p>100 rows × 11 columns</p>\n",
       "</div>"
      ],
      "text/plain": [
       "0   Case Number         DLC  Last Name First Name Missing Age            City  \\\n",
       "1       MP73132  08/23/2020    Ragland    Kristie    52 Years           Coker   \n",
       "2       MP67982  03/08/2020     Watson    Douglas    29 Years  West Jefferson   \n",
       "3       MP64666  01/16/2020    Edwards    Katrina    16 Years          Mobile   \n",
       "4       MP67978  01/08/2020  Kennebrew       Judy    65 Years       Tallassee   \n",
       "5       MP71439  10/21/2019     Taylor     Lonnie    78 Years          Jasper   \n",
       "..          ...         ...        ...        ...         ...             ...   \n",
       "96      MP23660  04/25/2009        Key      Scott    45 Years          Oakman   \n",
       "97       MP7380  04/08/2009       Rose     Warner    29 Years           Selma   \n",
       "98       MP5014  03/23/2009    Sanchez     Victor    25 Years       Abbeville   \n",
       "99       MP5211  01/21/2009     Adkins      Layla    32 Years           Leeds   \n",
       "100     MP10499  11/03/2008      Kersh      Nadia    23 Years        Homewood   \n",
       "\n",
       "0        County State     Sex          Race / Ethnicity Date Modified  \n",
       "1    Tuscaloosa    AL  Female         White / Caucasian    08/31/2020  \n",
       "2     Jefferson    AL    Male         White / Caucasian    06/22/2020  \n",
       "3        Mobile    AL  Female         White / Caucasian    08/12/2020  \n",
       "4    Tallapoosa    AL  Female  Black / African American    04/08/2020  \n",
       "5        Walker    AL    Male         White / Caucasian    08/31/2020  \n",
       "..          ...   ...     ...                       ...           ...  \n",
       "96       Walker    AL    Male         White / Caucasian    05/08/2020  \n",
       "97       Dallas    AL    Male  Black / African American    02/04/2020  \n",
       "98        Henry    AL    Male         Hispanic / Latino    02/11/2020  \n",
       "99       Shelby    AL  Female         White / Caucasian    07/20/2020  \n",
       "100   Jefferson    AL  Female         White / Caucasian    02/04/2020  \n",
       "\n",
       "[100 rows x 11 columns]"
      ]
     },
     "execution_count": 5,
     "metadata": {},
     "output_type": "execute_result"
    }
   ],
   "source": [
    "def get_data_table(browser):\n",
    "    grid = browser.find_elements_by_class_name(\"ui-grid-cell-contents\")\n",
    "#     print(len(grid))\n",
    "    grid_text = [g.text for g in grid]\n",
    "#     print(grid_text)\n",
    "    col_names = grid_text[0:11]\n",
    "    grid_list = [grid_text[g:g+11] for g in range(0, len(grid_text),11)]\n",
    "    grid_df = pd.DataFrame.from_records(grid_list)\n",
    "    grid_df.columns = grid_df.iloc[0,]\n",
    "    grid_df = grid_df.drop([0])\n",
    "    return grid_df\n",
    "\n",
    "get_data_table(browser)"
   ]
  },
  {
   "cell_type": "markdown",
   "metadata": {},
   "source": [
    "Since we cannot really tell if the table has loaded correctly, we should write a function to keep checking if the rows have increased to 100."
   ]
  },
  {
   "cell_type": "code",
   "execution_count": 6,
   "metadata": {},
   "outputs": [],
   "source": [
    "# one_states_df = pd.DataFrame()\n",
    "# for i in range(int(total_in_state/100) + 1):\n",
    "#     print(i)\n",
    "#     temp_df = get_data_table(browser)\n",
    "    \n",
    "#     if one_states_df.empty == True:\n",
    "#         one_states_df = temp_df\n",
    "#     else:\n",
    "#         one_states_df = pd.concat([one_states_df, temp_df])\n",
    "    \n",
    "#     next_page = browser.find_elements_by_xpath('''//*[@id=\"visitor\"]/div[1]/div[4]/form/div[2]/section[2]/div/div/div/div/div[5]/div/search-results-pager/ng-include/div/div/div/nav/button[2]''')[0]\n",
    "#     next_page.click()\n",
    "#     time.sleep(2)\n",
    "    \n",
    "# print(one_states_df)\n",
    "    "
   ]
  },
  {
   "cell_type": "markdown",
   "metadata": {},
   "source": [
    "Iterate over all the states and get the data"
   ]
  },
  {
   "cell_type": "code",
   "execution_count": null,
   "metadata": {},
   "outputs": [
    {
     "name": "stdout",
     "output_type": "stream",
     "text": [
      "235\n",
      "Message: element not interactable\n",
      "  (Session info: chrome=85.0.4183.102)\n",
      "\n",
      "Message: element not interactable\n",
      "  (Session info: chrome=85.0.4183.102)\n",
      "\n",
      "Message: element not interactable\n",
      "  (Session info: chrome=85.0.4183.102)\n",
      "\n",
      "Message: element not interactable\n",
      "  (Session info: chrome=85.0.4183.102)\n",
      "\n",
      "1163\n"
     ]
    }
   ],
   "source": [
    "all_states_df = pd.DataFrame()\n",
    "for one_state in states:\n",
    "    getting_data = True\n",
    "    while getting_data:\n",
    "        try:\n",
    "            browser.get(\"https://www.findthemissing.org/en\")\n",
    "            time.sleep(2)\n",
    "\n",
    "            #click away the initating window\n",
    "            browser.find_elements_by_xpath('''//*[@id=\"LegacyMigrationNotification\"]/div[1]/div[2]/button''')[0].click()\n",
    "            states_input = browser.find_elements_by_xpath('''//*[@id=\"visitor\"]/div[1]/section/div/div/div[2]/aside/quick-search/div/div[2]/form/fieldset/label[4]/div/ul/li/input''')[0]\n",
    "            states_input.click()\n",
    "            time.sleep(3)\n",
    "\n",
    "        #     states = browser.find_elements_by_xpath('''//*[@id=\"visitor\"]/div[1]/section/div/div/div[2]/aside/quick-search/div/div[2]/form/fieldset/label[4]/div/div/ul/li''')[0]\n",
    "        #     states = states.text.split(\"\\n\")\n",
    "            states_input.send_keys(one_state + Keys.ENTER)\n",
    "            search = browser.find_elements_by_xpath('''//*[@id=\"visitor\"]/div[1]/section/div/div/div[2]/aside/quick-search/div/div[2]/form/div[2]/input[2]''')[0]\n",
    "            search.submit()\n",
    "            time.sleep(3)\n",
    "\n",
    "            total_in_state = int(browser.find_elements_by_class_name(\"case-results-heading\")[0].text.replace(\" Missing Persons Cases Found\", \"\").replace(\",\", \"\"))\n",
    "            print(total_in_state)\n",
    "\n",
    "            expand_table = browser.find_elements_by_xpath('''//*[@id=\"visitor\"]/div[1]/div[4]/form/div[2]/section[2]/div/div/div/div/div[3]/div[3]/search-results-pager/ng-include/div/div/div/label/select''')[0]\n",
    "            expand_options = expand_table.find_elements_by_tag_name(\"option\")\n",
    "            expand_text = [e.text for e in expand_options]\n",
    "            expand_options[expand_text.index('100')].click()\n",
    "            time.sleep(2)\n",
    "\n",
    "            one_states_df = pd.DataFrame()\n",
    "            for i in range(int(total_in_state/100) + 1):\n",
    "                temp_df = get_data_table(browser)\n",
    "\n",
    "                if one_states_df.empty == True:\n",
    "                    one_states_df = temp_df\n",
    "                else:\n",
    "                    one_states_df = pd.concat([one_states_df, temp_df])\n",
    "\n",
    "                next_page = browser.find_elements_by_xpath('''//*[@id=\"visitor\"]/div[1]/div[4]/form/div[2]/section[2]/div/div/div/div/div[5]/div/search-results-pager/ng-include/div/div/div/nav/button[2]''')[0]\n",
    "                next_page.click()\n",
    "                time.sleep(2)\n",
    "\n",
    "\n",
    "            if all_states_df.empty == True:\n",
    "                all_states_df = one_states_df\n",
    "            else:\n",
    "                all_states_df = pd.concat([all_states_df, one_states_df])\n",
    "\n",
    "            getting_data = False\n",
    "            \n",
    "        except Exception as e: \n",
    "            print(e)\n",
    "            time.sleep(3)\n",
    "        "
   ]
  },
  {
   "cell_type": "code",
   "execution_count": null,
   "metadata": {},
   "outputs": [],
   "source": [
    "all_states_df.to_csv(\"namus.csv\")"
   ]
  },
  {
   "cell_type": "code",
   "execution_count": null,
   "metadata": {},
   "outputs": [],
   "source": [
    "browser.close"
   ]
  },
  {
   "cell_type": "code",
   "execution_count": null,
   "metadata": {},
   "outputs": [],
   "source": [
    "#facebook\n",
    "#google\n",
    "#twitter\n",
    "#google"
   ]
  }
 ],
 "metadata": {
  "kernelspec": {
   "display_name": "Python 3",
   "language": "python",
   "name": "python3"
  },
  "language_info": {
   "codemirror_mode": {
    "name": "ipython",
    "version": 3
   },
   "file_extension": ".py",
   "mimetype": "text/x-python",
   "name": "python",
   "nbconvert_exporter": "python",
   "pygments_lexer": "ipython3",
   "version": "3.7.6"
  }
 },
 "nbformat": 4,
 "nbformat_minor": 1
}
