{
 "cells": [
  {
   "cell_type": "code",
   "execution_count": 2,
   "metadata": {},
   "outputs": [],
   "source": [
    "import time, re, json\n",
    "from selenium import webdriver\n",
    "from selenium.common.exceptions import NoSuchElementException\n",
    "from selenium.webdriver.common.keys import Keys\n",
    "from bs4 import BeautifulSoup\n",
    "from selenium.webdriver.support.ui import WebDriverWait\n",
    "import numpy as np\n",
    "import pandas as pd\n",
    "from googlesearch import search "
   ]
  },
  {
   "cell_type": "code",
   "execution_count": 14,
   "metadata": {},
   "outputs": [
    {
     "name": "stdout",
     "output_type": "stream",
     "text": [
      "       Unnamed: 0 Case Number         DLC  Last Name First Name Missing Age  \\\n",
      "0               1     MP67982  03/08/2020     Watson    Douglas    29 Years   \n",
      "1               2     MP64666  01/16/2020    Edwards    Katrina    16 Years   \n",
      "2               3     MP67978  01/08/2020  Kennebrew       Judy    65 Years   \n",
      "3               4     MP61819  08/28/2019   Calloway      Donna    40 Years   \n",
      "4               5     MP58186  05/22/2019   Robinson   Ramondus    31 Years   \n",
      "...           ...         ...         ...        ...        ...         ...   \n",
      "18163          41      MP6400  08/04/1974      Meyer    Deborah    15 Years   \n",
      "18164          42     MP14488  07/04/1974      Brown    Carlene    19 Years   \n",
      "18165          43     MP13812  04/27/1974     Morris      Larry    24 Years   \n",
      "18166          44     MP23115  07/12/1966    Johnson     Dennis     8 Years   \n",
      "18167          45     MP27783  09/17/1934     Mauger       Olga    21 Years   \n",
      "\n",
      "                            City      County State     Sex  \\\n",
      "0                 West Jefferson   Jefferson    AL    Male   \n",
      "1                         Mobile      Mobile    AL  Female   \n",
      "2                      Tallassee  Tallapoosa    AL  Female   \n",
      "3                     Montgomery  Montgomery    AL  Female   \n",
      "4                     Birmingham   Jefferson    AL    Male   \n",
      "...                          ...         ...   ...     ...   \n",
      "18163                    Rawlins      Carbon    WY  Female   \n",
      "18164                    Rawlins      Carbon    WY  Female   \n",
      "18165                   Riverton     Fremont    WY    Male   \n",
      "18166  Yellowstone National Park        Park    WY    Male   \n",
      "18167                     Dubois     Fremont    WY  Female   \n",
      "\n",
      "               Race / Ethnicity Date Modified  \n",
      "0             White / Caucasian    04/09/2020  \n",
      "1             White / Caucasian    03/04/2020  \n",
      "2      Black / African American    04/08/2020  \n",
      "3      Black / African American    03/20/2020  \n",
      "4      Black / African American    02/14/2020  \n",
      "...                         ...           ...  \n",
      "18163         White / Caucasian    04/15/2019  \n",
      "18164         White / Caucasian    04/15/2019  \n",
      "18165         White / Caucasian    10/14/2019  \n",
      "18166         White / Caucasian    03/14/2018  \n",
      "18167         White / Caucasian    08/06/2018  \n",
      "\n",
      "[18168 rows x 12 columns]\n"
     ]
    }
   ],
   "source": [
    "namus = pd.read_csv(\"namus.csv\")\n",
    "print(namus)"
   ]
  },
  {
   "cell_type": "code",
   "execution_count": 17,
   "metadata": {},
   "outputs": [
    {
     "name": "stdout",
     "output_type": "stream",
     "text": [
      "\"Watson Douglas\"\n",
      "https://www.nonpareilonline.com/obituaries/watson-douglas/article_96970b26-e3c4-5e1b-b9fd-ecaeb6619c4c.html\n",
      "https://www.richmond.com/obituaries/watson-douglas/article_8b9c9a0b-aea5-5a53-a613-1c90ff52ca30.html\n",
      "https://www.linkedin.com/in/watson-douglas-68485121\n",
      "https://www.omaha.com/obits/watson-douglas-edward/article_c336ea8b-77b4-5932-9fde-1d93489ab1ae.html\n",
      "https://www.invaluable.com/artist/watson-douglas-hbwbd6ewwk/sold-at-auction-prices/\n",
      "http://www.serenitymeadows.com/obituary/watson-douglas\n",
      "https://www.lohmanfuneralhomes.com/guestbook/watson-douglas\n",
      "https://www.lohmanfuneralhomes.com/obituary/watson-douglas\n",
      "https://www.legacy.com/obituaries/name/by/watson/douglas\n",
      "https://beersandstory.com/tribute/details/165629/Douglas-Watson/obituary.html\n"
     ]
    }
   ],
   "source": [
    "# query = \"\\\"\" + str(namus.iloc[0,3]) + \" \" + str(namus.iloc[0,4]) + \"\\\"\" + \" \" + str(namus.iloc[0,6]) + \" \" + str(namus.iloc[0,8])\n",
    "query = \"\\\"\" + str(namus.iloc[0,3]) + \" \" + str(namus.iloc[0,4]) + \"\\\"\"\n",
    "print(query)\n",
    "for j in search(query, tld=\"co.in\", num=10, stop=10, pause=2): \n",
    "    print(j) "
   ]
  },
  {
   "cell_type": "code",
   "execution_count": null,
   "metadata": {},
   "outputs": [],
   "source": []
  }
 ],
 "metadata": {
  "kernelspec": {
   "display_name": "Python 3",
   "language": "python",
   "name": "python3"
  },
  "language_info": {
   "codemirror_mode": {
    "name": "ipython",
    "version": 3
   },
   "file_extension": ".py",
   "mimetype": "text/x-python",
   "name": "python",
   "nbconvert_exporter": "python",
   "pygments_lexer": "ipython3",
   "version": "3.7.6"
  }
 },
 "nbformat": 4,
 "nbformat_minor": 4
}
