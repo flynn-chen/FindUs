{
 "cells": [
  {
   "cell_type": "markdown",
   "metadata": {},
   "source": [
    "# Introduction to Selenium"
   ]
  },
  {
   "cell_type": "markdown",
   "metadata": {},
   "source": [
    "## Background"
   ]
  },
  {
   "cell_type": "markdown",
   "metadata": {},
   "source": [
    "<a href=\"docs.seleniumhq.org\">Selenium</a> is a free and open-source testing framework for web browser automation. Because Selenium provides a programmatic way of controlling web browser interactions, it can also be used for simple web scraping or crawling of webpages. \n",
    "\n",
    "Implemented in Java, Selenium WebDriver controls browsers by injecting Javascript calls. Selenium come with built-in support for Firefox with supplemental drivers to support other browsers. Selenium offers multiple programming language bindings including Python.\n",
    "\n",
    "This tutorial is designed to get you familiarized with Selenium and assumes you have basic working knowledge of the <a href=\"en.wikipedia.org/wiki/Document_Object_Model\">Document Object Model (DOM)</a>, which Selenium uses to identify elements on a page."
   ]
  },
  {
   "cell_type": "markdown",
   "metadata": {},
   "source": [
    "Make sure you have selenium module installed:<br><br> \n",
    "<code>pip install selenium</code><br><br>\n",
    "and <a href=\"www.mozilla.org/en-US/firefox/new/\">Firefox browser</a> installed."
   ]
  },
  {
   "cell_type": "markdown",
   "metadata": {},
   "source": [
    "## Launching the Browser"
   ]
  },
  {
   "cell_type": "code",
   "execution_count": 1,
   "metadata": {},
   "outputs": [],
   "source": [
    "import time, re, json\n",
    "from selenium import webdriver\n",
    "from selenium.common.exceptions import NoSuchElementException\n",
    "from selenium.webdriver.common.keys import Keys\n",
    "from bs4 import BeautifulSoup\n",
    "from selenium.webdriver.support.ui import WebDriverWait"
   ]
  },
  {
   "cell_type": "markdown",
   "metadata": {},
   "source": [
    "Now open a new Firefox browser."
   ]
  },
  {
   "cell_type": "code",
   "execution_count": 2,
   "metadata": {},
   "outputs": [],
   "source": [
    "browser = webdriver.Chrome(\"/Users/flynn_chen/Desktop/Projects/findus/missingpersons/chromedriver\")"
   ]
  },
  {
   "cell_type": "markdown",
   "metadata": {},
   "source": [
    "Navigate to Yelp's search page using <code>get()</code>"
   ]
  },
  {
   "cell_type": "code",
   "execution_count": 3,
   "metadata": {},
   "outputs": [],
   "source": [
    "browser.get(\"http://www.yelp.com\")\n",
    "time.sleep(5)"
   ]
  },
  {
   "cell_type": "markdown",
   "metadata": {},
   "source": [
    "## Looking for Pizza in Berkeley"
   ]
  },
  {
   "cell_type": "markdown",
   "metadata": {},
   "source": [
    "Now let's try to locate the element Find search bar by id:\n",
    "<br>\n",
    "<input autocomplete=\"off\" id=\"find_desc\" maxlength=\"64\" name=\"find_desc\" placeholder=\"tacos, cheap dinner, Max’s\" tabindex=\"1\" value=\"\">\n",
    "<br><br>\n",
    "Right-click the element in the browser and select inspect element. You should be taken to the source for the Find search bar. You'll discover that this search bar has <code>id=\"find_desc\"</code>."
   ]
  },
  {
   "cell_type": "code",
   "execution_count": 4,
   "metadata": {},
   "outputs": [],
   "source": [
    "find = browser.find_element_by_id(\"find_desc\")"
   ]
  },
  {
   "cell_type": "markdown",
   "metadata": {},
   "source": [
    "Then type \"pizza\" into the search bar."
   ]
  },
  {
   "cell_type": "code",
   "execution_count": 5,
   "metadata": {},
   "outputs": [],
   "source": [
    "find.clear()\n",
    "find.send_keys(\"pizza\")"
   ]
  },
  {
   "cell_type": "markdown",
   "metadata": {},
   "source": [
    "Now let's try locating the element Location search bar by name:<br>\n",
    "<input autocomplete=\"off\" id=\"dropperText_Mast\" maxlength=\"64\" name=\"find_loc\" placeholder=\"address, neighborhood, city, state or zip\" tabindex=\"2\" value=\"Berkeley, CA\">"
   ]
  },
  {
   "cell_type": "code",
   "execution_count": 6,
   "metadata": {},
   "outputs": [],
   "source": [
    "# loc = browser.find_element_by_name(\"find_loc\")\n",
    "loc = browser.find_element_by_id(\"dropperText_Mast\")"
   ]
  },
  {
   "cell_type": "markdown",
   "metadata": {},
   "source": [
    "Clear the existing text before typing in \"Berkeley, CA\"."
   ]
  },
  {
   "cell_type": "code",
   "execution_count": 7,
   "metadata": {},
   "outputs": [
    {
     "name": "stdout",
     "output_type": "stream",
     "text": [
      "None\n"
     ]
    }
   ],
   "source": [
    "print(loc.clear())\n",
    "loc.send_keys(\"Berkeley, CA\")"
   ]
  },
  {
   "cell_type": "markdown",
   "metadata": {},
   "source": [
    "Then find and click the search button."
   ]
  },
  {
   "cell_type": "code",
   "execution_count": 8,
   "metadata": {},
   "outputs": [],
   "source": [
    "browser.find_element_by_id(\"header-search-submit\").click()\n",
    "time.sleep(4)"
   ]
  },
  {
   "cell_type": "markdown",
   "metadata": {},
   "source": [
    "Now that you have all of the search results for pizza in Berkeley, CA in the browser, how we do interact with each result? Well-designed interfaces with static content should label each element with an id or name value. With dynamic content and poorly implemented interfaces, there are times where you have to locate one element in reference to another element, or anchor element."
   ]
  },
  {
   "cell_type": "code",
   "execution_count": 9,
   "metadata": {},
   "outputs": [
    {
     "name": "stdout",
     "output_type": "stream",
     "text": [
      "['Philomena', 'Beta Lounge', 'Cheese Board Pizza', 'Sliver Pizzeria', 'Zachary’s Chicago Pizza', 'Gioia Pizzeria', 'Emilia’s Pizzeria', 'Pollara Pizzeria', 'Sliver Pizzeria', 'Artichoke Basille’s Pizza', 'Arinell Pizza', 'Mountain Mike’s Pizza', 'Rotten City Pizza', 'Red Tomato Pizza House', 'Zachary’s Chicago Pizza', 'Little Star Pizza', 'Lanesplitter Pizza & Pub', 'North Beach Pizza', 'West Coast Pizza', 'iSlice', 'Barbarian Grub And Ale', 'La Val’s Pizza', 'Seniore’s Pizza', 'ABE’s Pizza', 'Bobby G’s Pizzeria', 'Baiano Pizzeria - Berkeley', 'Lucia’s Berkeley', 'Pizzaiolo', 'Creekwood', 'Paisan', 'Namaste Pizza', 'iSlice', 'West Coast Pizza', '2', '3', '4', '5', '6', '7', '8', '9']\n"
     ]
    }
   ],
   "source": [
    "yelp_page_source_page1 = browser.page_source\n",
    "soup = BeautifulSoup(yelp_page_source_page1,'html.parser')\n",
    "all_pizza = soup.find_all('a',{'class':'lemon--a__373c0__IEZFH link__373c0__1G70M link-color--inherit__373c0__3dzpk link-size--inherit__373c0__1VFlE'})\n",
    "biz_names = [pizza.text for pizza in all_pizza]\n",
    "print(biz_names)\n",
    "\n",
    "# items = browser.find_elements_by_xpath(\"//div[@id='super-container']/div[3]/div[3]/div/div/div/ul/li\")\n",
    "# print(items)\n",
    "# biz_names = []\n",
    "# for item in final_data:\n",
    "#     biz_names.append(item.find_element_by_name(\"biz-names\").text)\n",
    "#     print(biz_names[-1])"
   ]
  },
  {
   "cell_type": "markdown",
   "metadata": {},
   "source": [
    "Click on the link for the first business."
   ]
  },
  {
   "cell_type": "code",
   "execution_count": 10,
   "metadata": {},
   "outputs": [],
   "source": [
    "first_restaurant = browser.find_element_by_link_text(biz_names[0]).click()\n",
    "time.sleep(5)"
   ]
  },
  {
   "cell_type": "markdown",
   "metadata": {},
   "source": [
    "Let's access some basic information about this business:\n",
    "\n",
    "* address\n",
    "\n",
    "* phone number\n",
    "\n",
    "* website\n",
    "\n",
    "* number of reviews\n",
    "\n",
    "* average star rating"
   ]
  },
  {
   "cell_type": "code",
   "execution_count": 11,
   "metadata": {},
   "outputs": [
    {
     "name": "stdout",
     "output_type": "stream",
     "text": [
      "1801 14th Ave\n",
      "Oakland CA 94606\n",
      "(510) 532-2399\n",
      "philomenapizza.com\n",
      "total reviews 234\n",
      "avereage ratings 4.0\n"
     ]
    }
   ],
   "source": [
    "while True:\n",
    "    page_source_page = browser.page_source\n",
    "    soup = BeautifulSoup(page_source_page,'html.parser')\n",
    "\n",
    "    street_address = soup.find_all('span', {'itemprop':'streetAddress'})\n",
    "    locality_address = soup.find_all('span', {'itemprop':'addressLocality'})\n",
    "    region_address = soup.find_all('span', {'itemprop':'addressRegion'})\n",
    "    postal_address = soup.find_all('span', {'itemprop':'postalCode'})\n",
    "\n",
    "    if len(street_address) > 0 or len(locality_address) > 0 or len(region_address) > 0 or len(postal_address) > 0:\n",
    "        break\n",
    "    else:\n",
    "        time.sleep(5)\n",
    "\n",
    "street_address = soup.find_all('span', {'itemprop':'streetAddress'})[0].text\n",
    "print(street_address)\n",
    "locality_address = soup.find_all('span', {'itemprop':'addressLocality'})[0].text\n",
    "region_address = soup.find_all('span', {'itemprop':'addressRegion'})[0].text\n",
    "postal_address = soup.find_all('span', {'itemprop':'postalCode'})[0].text\n",
    "print(locality_address, region_address, postal_address)\n",
    "\n",
    "phone_re = re.compile('(\\d{3}[-\\.\\s]??\\d{3}[-\\.\\s]??\\d{4}|\\(\\d{3}\\)\\s*\\d{3}[-\\.\\s]??\\d{4}|\\d{3}[-\\.\\s]??\\d{4})')\n",
    "phone = soup.find_all('p', {'class':'lemon--p__373c0__3Qnnj text__373c0__2Kxyz text-color--normal__373c0__3xep9 text-align--left__373c0__2XGa-'})\n",
    "for p in phone:\n",
    "    if phone_re.search(p.text):\n",
    "        print(p.text)\n",
    "        break\n",
    "\n",
    "website = soup.find_all('a', {'class':'lemon--a__373c0__IEZFH link__373c0__1G70M link-color--blue-dark__373c0__85-Nu link-size--inherit__373c0__1VFlE'})\n",
    "for w in website:\n",
    "    if \".com\" in w.text:\n",
    "        print(w.text)\n",
    "        break\n",
    "# print(website[0].text)\n",
    "\n",
    "all_script_json = soup.find_all(\"script\", {\"type\":\"application/ld+json\"})\n",
    "for a in all_script_json:\n",
    "    if \"aggregateRating\" in str(a):\n",
    "        review_json = a\n",
    "\n",
    "# print(review_json)\n",
    "review_prefix = '\"reviewCount\": '\n",
    "count_number_beg = str(review_json).find(review_prefix)\n",
    "count_json = str(review_json)[count_number_beg:]\n",
    "count_number_end = count_json.find(\",\")\n",
    "# print(count_number_beg, count_number_end)\n",
    "review_number = str(review_json)[count_number_beg:count_number_end + count_number_beg].replace(review_prefix, \"\")\n",
    "print(\"total reviews\", review_number)\n",
    "\n",
    "\n",
    "review_prefix = '\"AggregateRating\", \"ratingValue\": '\n",
    "count_number_beg = str(review_json).find(review_prefix)\n",
    "count_json = str(review_json)[count_number_beg:]\n",
    "count_number_end = count_json.find(\"},\")\n",
    "review_number = str(review_json)[count_number_beg:count_number_end + count_number_beg].replace(review_prefix, \"\")\n",
    "print(\"avereage ratings\", review_number)\n",
    "\n",
    "# print(str(review_json))\n"
   ]
  },
  {
   "cell_type": "markdown",
   "metadata": {},
   "source": [
    "Go back to the previous page with all search results."
   ]
  },
  {
   "cell_type": "code",
   "execution_count": 12,
   "metadata": {},
   "outputs": [],
   "source": [
    "browser.back()\n",
    "time.sleep(5)"
   ]
  },
  {
   "cell_type": "markdown",
   "metadata": {},
   "source": [
    "Now let's combine all of the previous code and visit each business' website to scrape some information."
   ]
  },
  {
   "cell_type": "code",
   "execution_count": 13,
   "metadata": {},
   "outputs": [
    {
     "name": "stdout",
     "output_type": "stream",
     "text": [
      "\n",
      "\n",
      "Philomena\n",
      "1801 14th Ave\n",
      "Oakland CA 94606\n",
      "(510) 532-2399\n",
      "philomenapizza.com\n",
      "total reviews 234\n",
      "avereage ratings 4.0\n",
      "\n",
      "\n",
      "\n",
      "\n",
      "\n",
      "Beta Lounge\n",
      "2129 Durant Ave\n",
      "Berkeley CA 94704\n",
      "(510) 845-3200\n",
      "total reviews 234\n",
      "avereage ratings 4.0\n",
      "\n",
      "\n",
      "\n",
      "\n",
      "\n",
      "Cheese Board Pizza\n",
      "1512 Shattuck Ave\n",
      "Berkeley CA 94709\n",
      "(510) 549-3183\n",
      "total reviews 357\n",
      "avereage ratings 4.0\n",
      "\n",
      "\n",
      "\n",
      "\n",
      "\n",
      "Sliver Pizzeria\n",
      "2468 Telegraph Ave\n",
      "Berkeley CA 94704\n",
      "(510) 356-4044\n",
      "sliverpizzeria.com\n",
      "total reviews 5276\n",
      "avereage ratings 4.5\n",
      "\n",
      "\n",
      "\n",
      "\n",
      "\n",
      "Zachary’s Chicago Pizza\n",
      "1853 Solano Ave\n",
      "Berkeley CA 94707\n",
      "(510) 525-5950\n",
      "zacharys.com\n",
      "total reviews 1400\n",
      "avereage ratings 4.5\n",
      "\n",
      "\n",
      "\n",
      "\n",
      "\n",
      "Gioia Pizzeria\n",
      "1586 Hopkins St\n",
      "Berkeley CA 94707\n",
      "(510) 528-4692\n",
      "gioiapizzeria.com\n",
      "total reviews 1961\n",
      "avereage ratings 4.5\n",
      "\n",
      "\n",
      "\n",
      "\n",
      "\n",
      "Emilia’s Pizzeria\n",
      "2995 Shattuck Ave\n",
      "Berkeley CA 94705\n",
      "(510) 704-1794\n",
      "emiliaspizzeria.com\n",
      "total reviews 819\n",
      "avereage ratings 4.0\n",
      "\n",
      "\n",
      "\n",
      "\n",
      "\n",
      "Pollara Pizzeria\n",
      "1788 4th St\n",
      "Berkeley CA 94710\n",
      "(510) 529-4548\n",
      "pollarapizzeria.com\n",
      "total reviews 406\n",
      "avereage ratings 4.5\n",
      "\n",
      "\n",
      "\n",
      "Sliver Pizzeria failed attempt\n",
      "Sliver Pizzeria failed attempt\n",
      "Sliver Pizzeria failed attempt\n",
      "Sliver Pizzeria failed attempt\n",
      "Sliver Pizzeria failed attempt\n",
      "Sliver Pizzeria failed attempt\n",
      "Sliver Pizzeria failed attempt\n",
      "Sliver Pizzeria failed attempt\n",
      "Sliver Pizzeria failed attempt\n",
      "Sliver Pizzeria failed attempt\n",
      "Sliver Pizzeria failed attempt\n",
      "Sliver Pizzeria failed attempt\n",
      "Sliver Pizzeria failed attempt\n",
      "Sliver Pizzeria failed attempt\n",
      "Sliver Pizzeria failed attempt\n",
      "Sliver Pizzeria failed attempt\n",
      "Sliver Pizzeria failed attempt\n",
      "Sliver Pizzeria failed attempt\n",
      "Sliver Pizzeria failed attempt\n",
      "Sliver Pizzeria failed attempt\n",
      "Sliver Pizzeria failed attempt\n",
      "Sliver Pizzeria failed attempt\n",
      "Sliver Pizzeria failed attempt\n",
      "Sliver Pizzeria failed attempt\n",
      "Sliver Pizzeria failed attempt\n",
      "Sliver Pizzeria failed attempt\n",
      "Sliver Pizzeria failed attempt\n",
      "Sliver Pizzeria failed attempt\n",
      "Sliver Pizzeria failed attempt\n",
      "Sliver Pizzeria failed attempt\n",
      "Sliver Pizzeria failed attempt\n",
      "Sliver Pizzeria failed attempt\n",
      "Sliver Pizzeria failed attempt\n",
      "\n",
      "\n",
      "Sliver Pizzeria\n",
      "2468 Telegraph Ave\n",
      "Berkeley CA 94704\n",
      "(510) 356-4044\n",
      "sliverpizzeria.com\n",
      "total reviews 65\n",
      "avereage ratings 4.5\n",
      "\n",
      "\n",
      "\n",
      "\n",
      "\n",
      "Artichoke Basille’s Pizza\n",
      "2590 Durant Ave\n",
      "Berkeley CA 94704\n",
      "(510) 705-1266\n",
      "artichokepizza.com\n",
      "total reviews 1400\n",
      "avereage ratings 4.5\n",
      "\n",
      "\n",
      "\n",
      "\n",
      "\n",
      "Arinell Pizza\n",
      "2119 Shattuck Ave\n",
      "Berkeley CA 94704\n",
      "(510) 841-4035\n",
      "total reviews 596\n",
      "avereage ratings 4.0\n",
      "\n",
      "\n",
      "\n",
      "\n",
      "\n",
      "Mountain Mike’s Pizza\n",
      "1610 San Pablo Ave\n",
      "Berkeley CA 94702\n",
      "(510) 524-1000\n",
      "mountainmikespizza.com\n",
      "total reviews 587\n",
      "avereage ratings 3.5\n",
      "\n",
      "\n",
      "\n",
      "\n",
      "\n",
      "Rotten City Pizza\n",
      "6613 Hollis St\n",
      "Emeryville CA 94608\n",
      "(510) 655-2489\n",
      "rottencitypizza.com\n",
      "total reviews 170\n",
      "avereage ratings 4.0\n",
      "\n",
      "\n",
      "\n",
      "\n",
      "\n",
      "Red Tomato Pizza House\n",
      "2017 University Ave\n",
      "Berkeley CA 94704\n",
      "(510) 845-6666\n",
      "redtomatoberkeley.com\n",
      "total reviews 900\n",
      "avereage ratings 4.0\n",
      "\n",
      "\n",
      "\n",
      "Zachary’s Chicago Pizza failed attempt\n",
      "Zachary’s Chicago Pizza failed attempt\n",
      "Zachary’s Chicago Pizza failed attempt\n",
      "Zachary’s Chicago Pizza failed attempt\n",
      "Zachary’s Chicago Pizza failed attempt\n",
      "Zachary’s Chicago Pizza failed attempt\n",
      "Zachary’s Chicago Pizza failed attempt\n",
      "Zachary’s Chicago Pizza failed attempt\n",
      "Zachary’s Chicago Pizza failed attempt\n",
      "Zachary’s Chicago Pizza failed attempt\n",
      "Zachary’s Chicago Pizza failed attempt\n",
      "Zachary’s Chicago Pizza failed attempt\n",
      "Zachary’s Chicago Pizza failed attempt\n",
      "Zachary’s Chicago Pizza failed attempt\n",
      "Zachary’s Chicago Pizza failed attempt\n",
      "Zachary’s Chicago Pizza failed attempt\n",
      "Zachary’s Chicago Pizza failed attempt\n",
      "Zachary’s Chicago Pizza failed attempt\n",
      "Zachary’s Chicago Pizza failed attempt\n",
      "Zachary’s Chicago Pizza failed attempt\n",
      "Zachary’s Chicago Pizza failed attempt\n",
      "Zachary’s Chicago Pizza failed attempt\n",
      "Zachary’s Chicago Pizza failed attempt\n",
      "Zachary’s Chicago Pizza failed attempt\n",
      "Zachary’s Chicago Pizza failed attempt\n",
      "Zachary’s Chicago Pizza failed attempt\n",
      "Zachary’s Chicago Pizza failed attempt\n",
      "Zachary’s Chicago Pizza failed attempt\n",
      "Zachary’s Chicago Pizza failed attempt\n",
      "Zachary’s Chicago Pizza failed attempt\n",
      "Zachary’s Chicago Pizza failed attempt\n",
      "Zachary’s Chicago Pizza failed attempt\n",
      "Zachary’s Chicago Pizza failed attempt\n",
      "Zachary’s Chicago Pizza failed attempt\n",
      "Zachary’s Chicago Pizza failed attempt\n",
      "Zachary’s Chicago Pizza failed attempt\n",
      "Zachary’s Chicago Pizza failed attempt\n",
      "Zachary’s Chicago Pizza failed attempt\n",
      "Zachary’s Chicago Pizza failed attempt\n",
      "Zachary’s Chicago Pizza failed attempt\n",
      "Zachary’s Chicago Pizza failed attempt\n",
      "Zachary’s Chicago Pizza failed attempt\n",
      "Zachary’s Chicago Pizza failed attempt\n",
      "Zachary’s Chicago Pizza failed attempt\n",
      "Zachary’s Chicago Pizza failed attempt\n",
      "Zachary’s Chicago Pizza failed attempt\n",
      "Zachary’s Chicago Pizza failed attempt\n",
      "Zachary’s Chicago Pizza failed attempt\n",
      "Zachary’s Chicago Pizza failed attempt\n",
      "Zachary’s Chicago Pizza failed attempt\n",
      "Zachary’s Chicago Pizza failed attempt\n"
     ]
    },
    {
     "ename": "KeyboardInterrupt",
     "evalue": "",
     "output_type": "error",
     "traceback": [
      "\u001b[0;31m---------------------------------------------------------------------------\u001b[0m",
      "\u001b[0;31mElementClickInterceptedException\u001b[0m          Traceback (most recent call last)",
      "\u001b[0;32m<ipython-input-13-6d61b3be70eb>\u001b[0m in \u001b[0;36m<module>\u001b[0;34m\u001b[0m\n\u001b[1;32m      6\u001b[0m \u001b[0;34m\u001b[0m\u001b[0m\n\u001b[0;32m----> 7\u001b[0;31m             \u001b[0mbrowser\u001b[0m\u001b[0;34m.\u001b[0m\u001b[0mfind_element_by_link_text\u001b[0m\u001b[0;34m(\u001b[0m\u001b[0mbiz_name\u001b[0m\u001b[0;34m)\u001b[0m\u001b[0;34m.\u001b[0m\u001b[0mclick\u001b[0m\u001b[0;34m(\u001b[0m\u001b[0;34m)\u001b[0m\u001b[0;34m\u001b[0m\u001b[0;34m\u001b[0m\u001b[0m\n\u001b[0m\u001b[1;32m      8\u001b[0m             \u001b[0mtime\u001b[0m\u001b[0;34m.\u001b[0m\u001b[0msleep\u001b[0m\u001b[0;34m(\u001b[0m\u001b[0;36m5\u001b[0m\u001b[0;34m)\u001b[0m\u001b[0;34m\u001b[0m\u001b[0;34m\u001b[0m\u001b[0m\n",
      "\u001b[0;32m~/miniconda3/lib/python3.7/site-packages/selenium/webdriver/remote/webelement.py\u001b[0m in \u001b[0;36mclick\u001b[0;34m(self)\u001b[0m\n\u001b[1;32m     79\u001b[0m         \u001b[0;34m\"\"\"Clicks the element.\"\"\"\u001b[0m\u001b[0;34m\u001b[0m\u001b[0;34m\u001b[0m\u001b[0m\n\u001b[0;32m---> 80\u001b[0;31m         \u001b[0mself\u001b[0m\u001b[0;34m.\u001b[0m\u001b[0m_execute\u001b[0m\u001b[0;34m(\u001b[0m\u001b[0mCommand\u001b[0m\u001b[0;34m.\u001b[0m\u001b[0mCLICK_ELEMENT\u001b[0m\u001b[0;34m)\u001b[0m\u001b[0;34m\u001b[0m\u001b[0;34m\u001b[0m\u001b[0m\n\u001b[0m\u001b[1;32m     81\u001b[0m \u001b[0;34m\u001b[0m\u001b[0m\n",
      "\u001b[0;32m~/miniconda3/lib/python3.7/site-packages/selenium/webdriver/remote/webelement.py\u001b[0m in \u001b[0;36m_execute\u001b[0;34m(self, command, params)\u001b[0m\n\u001b[1;32m    632\u001b[0m         \u001b[0mparams\u001b[0m\u001b[0;34m[\u001b[0m\u001b[0;34m'id'\u001b[0m\u001b[0;34m]\u001b[0m \u001b[0;34m=\u001b[0m \u001b[0mself\u001b[0m\u001b[0;34m.\u001b[0m\u001b[0m_id\u001b[0m\u001b[0;34m\u001b[0m\u001b[0;34m\u001b[0m\u001b[0m\n\u001b[0;32m--> 633\u001b[0;31m         \u001b[0;32mreturn\u001b[0m \u001b[0mself\u001b[0m\u001b[0;34m.\u001b[0m\u001b[0m_parent\u001b[0m\u001b[0;34m.\u001b[0m\u001b[0mexecute\u001b[0m\u001b[0;34m(\u001b[0m\u001b[0mcommand\u001b[0m\u001b[0;34m,\u001b[0m \u001b[0mparams\u001b[0m\u001b[0;34m)\u001b[0m\u001b[0;34m\u001b[0m\u001b[0;34m\u001b[0m\u001b[0m\n\u001b[0m\u001b[1;32m    634\u001b[0m \u001b[0;34m\u001b[0m\u001b[0m\n",
      "\u001b[0;32m~/miniconda3/lib/python3.7/site-packages/selenium/webdriver/remote/webdriver.py\u001b[0m in \u001b[0;36mexecute\u001b[0;34m(self, driver_command, params)\u001b[0m\n\u001b[1;32m    320\u001b[0m         \u001b[0;32mif\u001b[0m \u001b[0mresponse\u001b[0m\u001b[0;34m:\u001b[0m\u001b[0;34m\u001b[0m\u001b[0;34m\u001b[0m\u001b[0m\n\u001b[0;32m--> 321\u001b[0;31m             \u001b[0mself\u001b[0m\u001b[0;34m.\u001b[0m\u001b[0merror_handler\u001b[0m\u001b[0;34m.\u001b[0m\u001b[0mcheck_response\u001b[0m\u001b[0;34m(\u001b[0m\u001b[0mresponse\u001b[0m\u001b[0;34m)\u001b[0m\u001b[0;34m\u001b[0m\u001b[0;34m\u001b[0m\u001b[0m\n\u001b[0m\u001b[1;32m    322\u001b[0m             response['value'] = self._unwrap_value(\n",
      "\u001b[0;32m~/miniconda3/lib/python3.7/site-packages/selenium/webdriver/remote/errorhandler.py\u001b[0m in \u001b[0;36mcheck_response\u001b[0;34m(self, response)\u001b[0m\n\u001b[1;32m    241\u001b[0m             \u001b[0;32mraise\u001b[0m \u001b[0mexception_class\u001b[0m\u001b[0;34m(\u001b[0m\u001b[0mmessage\u001b[0m\u001b[0;34m,\u001b[0m \u001b[0mscreen\u001b[0m\u001b[0;34m,\u001b[0m \u001b[0mstacktrace\u001b[0m\u001b[0;34m,\u001b[0m \u001b[0malert_text\u001b[0m\u001b[0;34m)\u001b[0m\u001b[0;34m\u001b[0m\u001b[0;34m\u001b[0m\u001b[0m\n\u001b[0;32m--> 242\u001b[0;31m         \u001b[0;32mraise\u001b[0m \u001b[0mexception_class\u001b[0m\u001b[0;34m(\u001b[0m\u001b[0mmessage\u001b[0m\u001b[0;34m,\u001b[0m \u001b[0mscreen\u001b[0m\u001b[0;34m,\u001b[0m \u001b[0mstacktrace\u001b[0m\u001b[0;34m)\u001b[0m\u001b[0;34m\u001b[0m\u001b[0;34m\u001b[0m\u001b[0m\n\u001b[0m\u001b[1;32m    243\u001b[0m \u001b[0;34m\u001b[0m\u001b[0m\n",
      "\u001b[0;31mElementClickInterceptedException\u001b[0m: Message: element click intercepted: Element <a class=\"lemon--a__373c0__IEZFH link__373c0__1G70M link-color--inherit__373c0__3dzpk link-size--inherit__373c0__1VFlE\" href=\"/biz/zacharys-chicago-pizza-berkeley?osq=pizza\" target=\"\" name=\"...\" rel=\"\">Zachary’s Chicago Pizza</a> is not clickable at point (403, 13). Other element would receive the click: <div class=\"lemon--div__373c0__1mboc consumer-header-container__373c0__2z_dl border--bottom__373c0__3qNtD border-color--default__373c0__3-ifU background-color--white__373c0__2uyKj\">...</div>\n  (Session info: chrome=81.0.4044.129)\n",
      "\nDuring handling of the above exception, another exception occurred:\n",
      "\u001b[0;31mKeyboardInterrupt\u001b[0m                         Traceback (most recent call last)",
      "\u001b[0;32m<ipython-input-13-6d61b3be70eb>\u001b[0m in \u001b[0;36m<module>\u001b[0;34m\u001b[0m\n\u001b[1;32m     43\u001b[0m         \u001b[0;32mexcept\u001b[0m\u001b[0;34m:\u001b[0m\u001b[0;34m\u001b[0m\u001b[0;34m\u001b[0m\u001b[0m\n\u001b[1;32m     44\u001b[0m             \u001b[0mprint\u001b[0m\u001b[0;34m(\u001b[0m\u001b[0mbiz_name\u001b[0m\u001b[0;34m,\u001b[0m \u001b[0;34m\"failed attempt\"\u001b[0m\u001b[0;34m)\u001b[0m\u001b[0;34m\u001b[0m\u001b[0;34m\u001b[0m\u001b[0m\n\u001b[0;32m---> 45\u001b[0;31m             \u001b[0mtime\u001b[0m\u001b[0;34m.\u001b[0m\u001b[0msleep\u001b[0m\u001b[0;34m(\u001b[0m\u001b[0;36m5\u001b[0m\u001b[0;34m)\u001b[0m\u001b[0;34m\u001b[0m\u001b[0;34m\u001b[0m\u001b[0m\n\u001b[0m\u001b[1;32m     46\u001b[0m             \u001b[0;32mpass\u001b[0m\u001b[0;34m\u001b[0m\u001b[0;34m\u001b[0m\u001b[0m\n\u001b[1;32m     47\u001b[0m \u001b[0;34m\u001b[0m\u001b[0m\n",
      "\u001b[0;31mKeyboardInterrupt\u001b[0m: "
     ]
    }
   ],
   "source": [
    "for biz_name in biz_names:\n",
    "    \n",
    "    getting_data = True\n",
    "    while getting_data:\n",
    "        try:\n",
    "            \n",
    "            browser.find_element_by_link_text(biz_name).click()\n",
    "            time.sleep(5)\n",
    "\n",
    "            page_source_page = browser.page_source\n",
    "            soup = BeautifulSoup(page_source_page,'html.parser')        \n",
    "\n",
    "\n",
    "            street_address = soup.find_all('span', {'itemprop':'streetAddress'})[0].text\n",
    "\n",
    "            locality_address = soup.find_all('span', {'itemprop':'addressLocality'})[0].text\n",
    "            region_address = soup.find_all('span', {'itemprop':'addressRegion'})[0].text\n",
    "            postal_address = soup.find_all('span', {'itemprop':'postalCode'})[0].text\n",
    "\n",
    "            phone_re = re.compile('(\\d{3}[-\\.\\s]??\\d{3}[-\\.\\s]??\\d{4}|\\(\\d{3}\\)\\s*\\d{3}[-\\.\\s]??\\d{4}|\\d{3}[-\\.\\s]??\\d{4})')\n",
    "            phone = soup.find_all('p', {'class':'lemon--p__373c0__3Qnnj text__373c0__2Kxyz text-color--normal__373c0__3xep9 text-align--left__373c0__2XGa-'})\n",
    "\n",
    "            website = soup.find_all('a', {'class':'lemon--a__373c0__IEZFH link__373c0__1G70M link-color--blue-dark__373c0__85-Nu link-size--inherit__373c0__1VFlE'})\n",
    "\n",
    "            all_script_json = soup.find_all(\"script\", {\"type\":\"application/ld+json\"})\n",
    "\n",
    "            review_prefix = '\"reviewCount\": '\n",
    "            count_number_beg = str(review_json).find(review_prefix)\n",
    "            count_json = str(review_json)[count_number_beg:]\n",
    "            count_number_end = count_json.find(\",\")\n",
    "            review_number = str(review_json)[count_number_beg:count_number_end + count_number_beg].replace(review_prefix, \"\")\n",
    "\n",
    "            review_prefix = '\"AggregateRating\", \"ratingValue\": '\n",
    "            count_number_beg = str(review_json).find(review_prefix)\n",
    "            count_json = str(review_json)[count_number_beg:]\n",
    "            count_number_end = count_json.find(\"},\")\n",
    "            review_rate = str(review_json)[count_number_beg:count_number_end + count_number_beg].replace(review_prefix, \"\")\n",
    "\n",
    "            browser.back()\n",
    "\n",
    "            time.sleep(5)\n",
    "            getting_data = False\n",
    "        except:\n",
    "            print(biz_name, \"failed attempt\")\n",
    "            time.sleep(5)\n",
    "            pass\n",
    "        \n",
    "    print(\"\")\n",
    "    print(\"\")\n",
    "    print(biz_name)\n",
    "    print(street_address)\n",
    "    print(locality_address, region_address, postal_address)\n",
    "    for p in phone:\n",
    "        if phone_re.search(p.text):\n",
    "            print(p.text)\n",
    "            break\n",
    "    for w in website:\n",
    "        if \".com\" in w.text:\n",
    "            print(w.text)\n",
    "            break\n",
    "    for a in all_script_json:\n",
    "        if \"aggregateRating\" in str(a):\n",
    "            review_json = a\n",
    "    print(\"total reviews:\", review_number)\n",
    "    print(\"avereage ratings:\", review_rate)\n",
    "    print(\"\")\n",
    "    print(\"\")"
   ]
  },
  {
   "cell_type": "code",
   "execution_count": null,
   "metadata": {},
   "outputs": [],
   "source": []
  }
 ],
 "metadata": {
  "kernelspec": {
   "display_name": "Python 3",
   "language": "python",
   "name": "python3"
  },
  "language_info": {
   "codemirror_mode": {
    "name": "ipython",
    "version": 3
   },
   "file_extension": ".py",
   "mimetype": "text/x-python",
   "name": "python",
   "nbconvert_exporter": "python",
   "pygments_lexer": "ipython3",
   "version": "3.7.6"
  }
 },
 "nbformat": 4,
 "nbformat_minor": 1
}
